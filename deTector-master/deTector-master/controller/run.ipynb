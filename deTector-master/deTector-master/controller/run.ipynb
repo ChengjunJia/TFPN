{
 "cells": [
  {
   "cell_type": "code",
   "execution_count": 24,
   "metadata": {},
   "outputs": [
    {
     "name": "stderr",
     "output_type": "stream",
     "text": [
      "2021-11-15 22:23:04,678 INFO:  ---------------start controller----------------\n",
      "2021-11-15 22:23:04,678 INFO:  Read configuration...\n",
      "2021-11-15 22:23:04,678 INFO:  Fattree DCN: k = 4, numPod = 4, identifiability = 2, coverage = 2, coef = 4, cores = 1\n",
      "2021-11-15 22:23:04,678 INFO:  generating paths for 4 pods...\n",
      "2021-11-15 22:23:04,681 INFO:  selecting paths ...\n",
      "2021-11-15 22:23:04,690 INFO:  selecting paths ...\n",
      "2021-11-15 22:23:04,698 INFO:  total number of selected paths in whole DCN:22.0\n",
      "2021-11-15 22:23:04,698 INFO:  generating deTector pinglist...\n"
     ]
    }
   ],
   "source": [
    "# Please input k, numPod, beta, alpha, coef and cores\n",
    "! python consprobmat.py 4 4 2 2 4 1"
   ]
  }
 ],
 "metadata": {
  "interpreter": {
   "hash": "613fe122287fdb1a4092b1ec324ab5e18de9ec977608057b646301948d1df577"
  },
  "kernelspec": {
   "display_name": "Python 3.8.3 64-bit ('base': conda)",
   "language": "python",
   "name": "python3"
  },
  "language_info": {
   "codemirror_mode": {
    "name": "ipython",
    "version": 3
   },
   "file_extension": ".py",
   "mimetype": "text/x-python",
   "name": "python",
   "nbconvert_exporter": "python",
   "pygments_lexer": "ipython3",
   "version": "3.8.3"
  },
  "orig_nbformat": 4
 },
 "nbformat": 4,
 "nbformat_minor": 2
}
